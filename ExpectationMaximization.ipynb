{
 "cells": [
  {
   "cell_type": "code",
   "execution_count": 1,
   "id": "7b8e9295-3fa1-4359-8f67-d5fed7f9e111",
   "metadata": {},
   "outputs": [],
   "source": [
    "### Jinrui Zhou\n",
    "### MCB 112 - Pset 09: The Return of the Ten Arcs"
   ]
  },
  {
   "cell_type": "code",
   "execution_count": 2,
   "id": "d91ac298-bcb2-47d6-8437-b3b5c2579e5b",
   "metadata": {},
   "outputs": [],
   "source": [
    "import numpy as np\n",
    "import pandas as pd\n",
    "import math\n",
    "import matplotlib.pyplot as plt\n",
    "import scipy.stats as stats\n",
    "from scipy import special\n",
    "from collections import Counter\n",
    "import tqdm"
   ]
  },
  {
   "cell_type": "code",
   "execution_count": 3,
   "id": "0bd34912-00e3-4ed7-a82d-05774780cde5",
   "metadata": {},
   "outputs": [],
   "source": [
    "%matplotlib inline"
   ]
  },
  {
   "cell_type": "markdown",
   "id": "e85d5573-045d-4418-9710-38cf245fe8b1",
   "metadata": {},
   "source": [
    "# 1. Write A Simulator as A Positive Control\n",
    "### Write a function that simulates N=1000000 observed read counts, following the model specified above, for any Arc locus structure and any transcript abundances τ. Assume that there are 10 segments and isoforms. Use the function to generate a test data set for known model parameters τ, L that were chosen."
   ]
  },
  {
   "cell_type": "markdown",
   "id": "c7bd6ec7-77be-40ee-b57b-eb212f29a4e9",
   "metadata": {},
   "source": [
    "###### The 10 transcripts of the sand mouse Arc locus."
   ]
  },
  {
   "cell_type": "code",
   "execution_count": 4,
   "id": "5a60e748-ba07-4f37-8c55-f0c319f1a422",
   "metadata": {},
   "outputs": [
    {
     "data": {
      "text/html": [
       "<div>\n",
       "<style scoped>\n",
       "    .dataframe tbody tr th:only-of-type {\n",
       "        vertical-align: middle;\n",
       "    }\n",
       "\n",
       "    .dataframe tbody tr th {\n",
       "        vertical-align: top;\n",
       "    }\n",
       "\n",
       "    .dataframe thead th {\n",
       "        text-align: right;\n",
       "    }\n",
       "</style>\n",
       "<table border=\"1\" class=\"dataframe\">\n",
       "  <thead>\n",
       "    <tr style=\"text-align: right;\">\n",
       "      <th></th>\n",
       "      <th>Isoform</th>\n",
       "      <th>Transcripts</th>\n",
       "      <th>SegNum</th>\n",
       "      <th>Segments</th>\n",
       "    </tr>\n",
       "  </thead>\n",
       "  <tbody>\n",
       "    <tr>\n",
       "      <th>0</th>\n",
       "      <td>Arc1</td>\n",
       "      <td>xxxxx</td>\n",
       "      <td>4</td>\n",
       "      <td>ABCD</td>\n",
       "    </tr>\n",
       "    <tr>\n",
       "      <th>1</th>\n",
       "      <td>Arc2</td>\n",
       "      <td>xxxxx</td>\n",
       "      <td>2</td>\n",
       "      <td>BC</td>\n",
       "    </tr>\n",
       "    <tr>\n",
       "      <th>2</th>\n",
       "      <td>Arc3</td>\n",
       "      <td>xxxxx</td>\n",
       "      <td>3</td>\n",
       "      <td>CDE</td>\n",
       "    </tr>\n",
       "    <tr>\n",
       "      <th>3</th>\n",
       "      <td>Arc4</td>\n",
       "      <td>xxxxx</td>\n",
       "      <td>4</td>\n",
       "      <td>DEFG</td>\n",
       "    </tr>\n",
       "    <tr>\n",
       "      <th>4</th>\n",
       "      <td>Arc5</td>\n",
       "      <td>xxxxx</td>\n",
       "      <td>4</td>\n",
       "      <td>EFGH</td>\n",
       "    </tr>\n",
       "    <tr>\n",
       "      <th>5</th>\n",
       "      <td>Arc6</td>\n",
       "      <td>xxxxx</td>\n",
       "      <td>3</td>\n",
       "      <td>FGH</td>\n",
       "    </tr>\n",
       "    <tr>\n",
       "      <th>6</th>\n",
       "      <td>Arc7</td>\n",
       "      <td>xxxxx</td>\n",
       "      <td>2</td>\n",
       "      <td>GH</td>\n",
       "    </tr>\n",
       "    <tr>\n",
       "      <th>7</th>\n",
       "      <td>Arc8</td>\n",
       "      <td>xxxxx</td>\n",
       "      <td>2</td>\n",
       "      <td>HI</td>\n",
       "    </tr>\n",
       "    <tr>\n",
       "      <th>8</th>\n",
       "      <td>Arc9</td>\n",
       "      <td>xxxxx</td>\n",
       "      <td>3</td>\n",
       "      <td>IJA</td>\n",
       "    </tr>\n",
       "    <tr>\n",
       "      <th>9</th>\n",
       "      <td>Arc10</td>\n",
       "      <td>xxxxx</td>\n",
       "      <td>3</td>\n",
       "      <td>JAB</td>\n",
       "    </tr>\n",
       "  </tbody>\n",
       "</table>\n",
       "</div>"
      ],
      "text/plain": [
       "  Isoform Transcripts  SegNum Segments\n",
       "0    Arc1       xxxxx       4     ABCD\n",
       "1    Arc2       xxxxx       2       BC\n",
       "2    Arc3       xxxxx       3      CDE\n",
       "3    Arc4       xxxxx       4     DEFG\n",
       "4    Arc5       xxxxx       4     EFGH\n",
       "5    Arc6       xxxxx       3      FGH\n",
       "6    Arc7       xxxxx       2       GH\n",
       "7    Arc8       xxxxx       2       HI\n",
       "8    Arc9       xxxxx       3      IJA\n",
       "9   Arc10       xxxxx       3      JAB"
      ]
     },
     "execution_count": 4,
     "metadata": {},
     "output_type": "execute_result"
    }
   ],
   "source": [
    "data1 = pd.read_csv('w09-data.out.1.txt', skiprows=[0], names=['Isoform', 'Transcripts', 'SegNum','Segments'], delim_whitespace=' ')\n",
    "data1"
   ]
  },
  {
   "cell_type": "markdown",
   "id": "f17308b5-ab62-4ea2-bb93-c8f2c08c9d42",
   "metadata": {},
   "source": [
    "###### The 1000000 read sequences."
   ]
  },
  {
   "cell_type": "code",
   "execution_count": 5,
   "id": "72c0496d-80de-4c77-b883-8b34b00c071d",
   "metadata": {},
   "outputs": [
    {
     "data": {
      "text/html": [
       "<div>\n",
       "<style scoped>\n",
       "    .dataframe tbody tr th:only-of-type {\n",
       "        vertical-align: middle;\n",
       "    }\n",
       "\n",
       "    .dataframe tbody tr th {\n",
       "        vertical-align: top;\n",
       "    }\n",
       "\n",
       "    .dataframe thead th {\n",
       "        text-align: right;\n",
       "    }\n",
       "</style>\n",
       "<table border=\"1\" class=\"dataframe\">\n",
       "  <thead>\n",
       "    <tr style=\"text-align: right;\">\n",
       "      <th></th>\n",
       "      <th>Segment</th>\n",
       "      <th>readsLength</th>\n",
       "    </tr>\n",
       "  </thead>\n",
       "  <tbody>\n",
       "    <tr>\n",
       "      <th>0</th>\n",
       "      <td>a</td>\n",
       "      <td>97512</td>\n",
       "    </tr>\n",
       "    <tr>\n",
       "      <th>1</th>\n",
       "      <td>b</td>\n",
       "      <td>268771</td>\n",
       "    </tr>\n",
       "    <tr>\n",
       "      <th>2</th>\n",
       "      <td>c</td>\n",
       "      <td>249157</td>\n",
       "    </tr>\n",
       "    <tr>\n",
       "      <th>3</th>\n",
       "      <td>d</td>\n",
       "      <td>76643</td>\n",
       "    </tr>\n",
       "    <tr>\n",
       "      <th>4</th>\n",
       "      <td>e</td>\n",
       "      <td>33977</td>\n",
       "    </tr>\n",
       "    <tr>\n",
       "      <th>5</th>\n",
       "      <td>f</td>\n",
       "      <td>40729</td>\n",
       "    </tr>\n",
       "    <tr>\n",
       "      <th>6</th>\n",
       "      <td>g</td>\n",
       "      <td>43351</td>\n",
       "    </tr>\n",
       "    <tr>\n",
       "      <th>7</th>\n",
       "      <td>h</td>\n",
       "      <td>76299</td>\n",
       "    </tr>\n",
       "    <tr>\n",
       "      <th>8</th>\n",
       "      <td>i</td>\n",
       "      <td>73029</td>\n",
       "    </tr>\n",
       "    <tr>\n",
       "      <th>9</th>\n",
       "      <td>j</td>\n",
       "      <td>40532</td>\n",
       "    </tr>\n",
       "  </tbody>\n",
       "</table>\n",
       "</div>"
      ],
      "text/plain": [
       "  Segment  readsLength\n",
       "0       a        97512\n",
       "1       b       268771\n",
       "2       c       249157\n",
       "3       d        76643\n",
       "4       e        33977\n",
       "5       f        40729\n",
       "6       g        43351\n",
       "7       h        76299\n",
       "8       i        73029\n",
       "9       j        40532"
      ]
     },
     "execution_count": 5,
     "metadata": {},
     "output_type": "execute_result"
    }
   ],
   "source": [
    "data2 = pd.read_csv('w09-data.out.2.txt', skiprows=[0], names=['Segment', 'readsLength'], delim_whitespace=' ')\n",
    "data2"
   ]
  },
  {
   "cell_type": "code",
   "execution_count": 6,
   "id": "3ff2844e-2b55-49a2-9ad6-8359dba7b320",
   "metadata": {},
   "outputs": [
    {
     "data": {
      "text/plain": [
       "[4, 2, 3, 4, 4, 3, 2, 2, 3, 3]"
      ]
     },
     "execution_count": 6,
     "metadata": {},
     "output_type": "execute_result"
    }
   ],
   "source": [
    "assigned_len = data1.SegNum.values.tolist()\n",
    "assigned_len"
   ]
  },
  {
   "cell_type": "code",
   "execution_count": 7,
   "id": "ecf706e7-0dab-4ab6-bea0-568f0b5aa4f6",
   "metadata": {},
   "outputs": [],
   "source": [
    "def initialize_abundance_length(n_transcript, min_len, max_len):\n",
    "    abundance = list(np.random.dirichlet(np.ones(n_transcript),size=1)[0])\n",
    "    lengths = list(np.random.randint(min_len, max_len+1, n_transcript))\n",
    "    return abundance, lengths"
   ]
  },
  {
   "cell_type": "code",
   "execution_count": 8,
   "id": "fc54dc8d-83ce-4019-b209-8b6413bce4b0",
   "metadata": {},
   "outputs": [],
   "source": [
    "def default_abundance_length(n_transcript):\n",
    "    return list(np.random.dirichlet(np.ones(n_transcript),size=1)[0]), assigned_len"
   ]
  },
  {
   "cell_type": "code",
   "execution_count": 9,
   "id": "08241081-aa11-491f-90cb-9a36273cdfde",
   "metadata": {},
   "outputs": [],
   "source": [
    "def create_reads(trans_vec, abundance_vec, len_transcripts, N):   \n",
    "    reads = []\n",
    "    temp = np.multiply(abundance_vec, len_transcripts)\n",
    "    abundances = np.true_divide(temp, sum(temp))\n",
    "    for i in tqdm.tqdm(range(N)):\n",
    "        transcript = trans_vec[np.random.choice(len(trans_vec),p=abundances)]\n",
    "        reads.append(np.random.choice(transcript))        \n",
    "    return reads"
   ]
  },
  {
   "cell_type": "code",
   "execution_count": 10,
   "id": "17d7bd17-2fd4-40b4-b048-ab639547b8bc",
   "metadata": {},
   "outputs": [],
   "source": [
    "def generate_arc(len_transcripts):    \n",
    "    transcripts = []\n",
    "    lts = len(len_transcripts)\n",
    "    segment = [i for i in range(lts)]\n",
    "    for start_idx, trans_len in enumerate(len_transcripts):\n",
    "        if start_idx+trans_len > lts:  \n",
    "            transcripts.append(segment[start_idx:]+segment[:start_idx+trans_len - lts])\n",
    "        else: \n",
    "            transcripts.append(segment[start_idx:start_idx+trans_len])  \n",
    "    return transcripts"
   ]
  },
  {
   "cell_type": "code",
   "execution_count": 11,
   "id": "5b835e8c-f7df-4948-980f-b9171a1e23df",
   "metadata": {},
   "outputs": [],
   "source": [
    "trans_abundance, len_transcripts = initialize_abundance_length(10, min_len=2, max_len=4)"
   ]
  },
  {
   "cell_type": "code",
   "execution_count": 12,
   "id": "3bddd7e6-ef96-48e1-8c5a-3aef0ea3ddd4",
   "metadata": {},
   "outputs": [
    {
     "name": "stdout",
     "output_type": "stream",
     "text": [
      "[0.05971327890305918, 0.23354981722220802, 0.029466560356696325, 0.12340591105142255, 0.12437230446875248, 0.01655287568767354, 0.07309621171605585, 0.13848334897256215, 0.042741947704902444, 0.15861774391666758]\n",
      "[2, 4, 3, 4, 4, 4, 4, 2, 2, 3]\n"
     ]
    }
   ],
   "source": [
    "print(trans_abundance)\n",
    "print(len_transcripts)"
   ]
  },
  {
   "cell_type": "code",
   "execution_count": 13,
   "id": "8c862cf9-7146-41b7-a773-b0513057154a",
   "metadata": {},
   "outputs": [
    {
     "data": {
      "text/plain": [
       "[[0, 1],\n",
       " [1, 2, 3, 4],\n",
       " [2, 3, 4],\n",
       " [3, 4, 5, 6],\n",
       " [4, 5, 6, 7],\n",
       " [5, 6, 7, 8],\n",
       " [6, 7, 8, 9],\n",
       " [7, 8],\n",
       " [8, 9],\n",
       " [9, 0, 1]]"
      ]
     },
     "execution_count": 13,
     "metadata": {},
     "output_type": "execute_result"
    }
   ],
   "source": [
    "transcript_list = generate_arc(len_transcripts)\n",
    "transcript_list"
   ]
  },
  {
   "cell_type": "code",
   "execution_count": 14,
   "id": "963d7e4d-0ce2-4dc2-87b8-61af48fc20f2",
   "metadata": {},
   "outputs": [
    {
     "name": "stderr",
     "output_type": "stream",
     "text": [
      "100%|██████████| 1000000/1000000 [00:23<00:00, 42359.97it/s]\n"
     ]
    },
    {
     "data": {
      "text/html": [
       "<div>\n",
       "<style scoped>\n",
       "    .dataframe tbody tr th:only-of-type {\n",
       "        vertical-align: middle;\n",
       "    }\n",
       "\n",
       "    .dataframe tbody tr th {\n",
       "        vertical-align: top;\n",
       "    }\n",
       "\n",
       "    .dataframe thead th {\n",
       "        text-align: right;\n",
       "    }\n",
       "</style>\n",
       "<table border=\"1\" class=\"dataframe\">\n",
       "  <thead>\n",
       "    <tr style=\"text-align: right;\">\n",
       "      <th></th>\n",
       "      <th>read</th>\n",
       "      <th>counts</th>\n",
       "      <th>read_char</th>\n",
       "      <th>frequency</th>\n",
       "    </tr>\n",
       "  </thead>\n",
       "  <tbody>\n",
       "    <tr>\n",
       "      <th>0</th>\n",
       "      <td>0</td>\n",
       "      <td>65162</td>\n",
       "      <td>A</td>\n",
       "      <td>0.07</td>\n",
       "    </tr>\n",
       "    <tr>\n",
       "      <th>1</th>\n",
       "      <td>1</td>\n",
       "      <td>135849</td>\n",
       "      <td>B</td>\n",
       "      <td>0.14</td>\n",
       "    </tr>\n",
       "    <tr>\n",
       "      <th>2</th>\n",
       "      <td>2</td>\n",
       "      <td>79349</td>\n",
       "      <td>C</td>\n",
       "      <td>0.08</td>\n",
       "    </tr>\n",
       "    <tr>\n",
       "      <th>3</th>\n",
       "      <td>3</td>\n",
       "      <td>116061</td>\n",
       "      <td>D</td>\n",
       "      <td>0.12</td>\n",
       "    </tr>\n",
       "    <tr>\n",
       "      <th>4</th>\n",
       "      <td>4</td>\n",
       "      <td>153092</td>\n",
       "      <td>E</td>\n",
       "      <td>0.15</td>\n",
       "    </tr>\n",
       "    <tr>\n",
       "      <th>5</th>\n",
       "      <td>5</td>\n",
       "      <td>79651</td>\n",
       "      <td>F</td>\n",
       "      <td>0.08</td>\n",
       "    </tr>\n",
       "    <tr>\n",
       "      <th>6</th>\n",
       "      <td>6</td>\n",
       "      <td>100911</td>\n",
       "      <td>G</td>\n",
       "      <td>0.10</td>\n",
       "    </tr>\n",
       "    <tr>\n",
       "      <th>7</th>\n",
       "      <td>7</td>\n",
       "      <td>105968</td>\n",
       "      <td>H</td>\n",
       "      <td>0.11</td>\n",
       "    </tr>\n",
       "    <tr>\n",
       "      <th>8</th>\n",
       "      <td>8</td>\n",
       "      <td>81618</td>\n",
       "      <td>I</td>\n",
       "      <td>0.08</td>\n",
       "    </tr>\n",
       "    <tr>\n",
       "      <th>9</th>\n",
       "      <td>9</td>\n",
       "      <td>82339</td>\n",
       "      <td>J</td>\n",
       "      <td>0.08</td>\n",
       "    </tr>\n",
       "  </tbody>\n",
       "</table>\n",
       "</div>"
      ],
      "text/plain": [
       "   read  counts read_char  frequency\n",
       "0     0   65162         A       0.07\n",
       "1     1  135849         B       0.14\n",
       "2     2   79349         C       0.08\n",
       "3     3  116061         D       0.12\n",
       "4     4  153092         E       0.15\n",
       "5     5   79651         F       0.08\n",
       "6     6  100911         G       0.10\n",
       "7     7  105968         H       0.11\n",
       "8     8   81618         I       0.08\n",
       "9     9   82339         J       0.08"
      ]
     },
     "execution_count": 14,
     "metadata": {},
     "output_type": "execute_result"
    }
   ],
   "source": [
    "reads = create_reads(transcript_list, trans_abundance, len_transcripts, 1000000)\n",
    "df_reads = pd.DataFrame.from_dict(Counter(reads), orient=\"index\").reset_index()\n",
    "df_reads.columns = [\"read\", \"counts\"]\n",
    "df_reads[\"read_char\"] = df_reads.read.apply(lambda x: chr(ord('@')+x+1))\n",
    "df_reads = df_reads.sort_values(\"read\",ignore_index=True)\n",
    "df_reads[\"frequency\"] = round(df_reads.counts/df_reads.counts.values.sum(),2)\n",
    "df_reads"
   ]
  },
  {
   "cell_type": "markdown",
   "id": "a740e7ea-f129-44ad-a6e0-eff0b1bfb2a0",
   "metadata": {},
   "source": [
    "###### Rerun the code using the assigned lengths [4, 2, 3, 4, 4, 3, 2, 2, 3, 3]."
   ]
  },
  {
   "cell_type": "code",
   "execution_count": 15,
   "id": "e3db0cc1-716c-48f1-9e8c-a45c871a2a6a",
   "metadata": {},
   "outputs": [
    {
     "name": "stderr",
     "output_type": "stream",
     "text": [
      "100%|██████████| 1000000/1000000 [00:23<00:00, 42303.81it/s]\n"
     ]
    },
    {
     "data": {
      "text/html": [
       "<div>\n",
       "<style scoped>\n",
       "    .dataframe tbody tr th:only-of-type {\n",
       "        vertical-align: middle;\n",
       "    }\n",
       "\n",
       "    .dataframe tbody tr th {\n",
       "        vertical-align: top;\n",
       "    }\n",
       "\n",
       "    .dataframe thead th {\n",
       "        text-align: right;\n",
       "    }\n",
       "</style>\n",
       "<table border=\"1\" class=\"dataframe\">\n",
       "  <thead>\n",
       "    <tr style=\"text-align: right;\">\n",
       "      <th></th>\n",
       "      <th>read</th>\n",
       "      <th>counts</th>\n",
       "      <th>read_char</th>\n",
       "      <th>frequency</th>\n",
       "    </tr>\n",
       "  </thead>\n",
       "  <tbody>\n",
       "    <tr>\n",
       "      <th>0</th>\n",
       "      <td>0</td>\n",
       "      <td>68088</td>\n",
       "      <td>A</td>\n",
       "      <td>0.07</td>\n",
       "    </tr>\n",
       "    <tr>\n",
       "      <th>1</th>\n",
       "      <td>1</td>\n",
       "      <td>49848</td>\n",
       "      <td>B</td>\n",
       "      <td>0.05</td>\n",
       "    </tr>\n",
       "    <tr>\n",
       "      <th>2</th>\n",
       "      <td>2</td>\n",
       "      <td>64233</td>\n",
       "      <td>C</td>\n",
       "      <td>0.06</td>\n",
       "    </tr>\n",
       "    <tr>\n",
       "      <th>3</th>\n",
       "      <td>3</td>\n",
       "      <td>97080</td>\n",
       "      <td>D</td>\n",
       "      <td>0.10</td>\n",
       "    </tr>\n",
       "    <tr>\n",
       "      <th>4</th>\n",
       "      <td>4</td>\n",
       "      <td>141874</td>\n",
       "      <td>E</td>\n",
       "      <td>0.14</td>\n",
       "    </tr>\n",
       "    <tr>\n",
       "      <th>5</th>\n",
       "      <td>5</td>\n",
       "      <td>136351</td>\n",
       "      <td>F</td>\n",
       "      <td>0.14</td>\n",
       "    </tr>\n",
       "    <tr>\n",
       "      <th>6</th>\n",
       "      <td>6</td>\n",
       "      <td>202064</td>\n",
       "      <td>G</td>\n",
       "      <td>0.20</td>\n",
       "    </tr>\n",
       "    <tr>\n",
       "      <th>7</th>\n",
       "      <td>7</td>\n",
       "      <td>149448</td>\n",
       "      <td>H</td>\n",
       "      <td>0.15</td>\n",
       "    </tr>\n",
       "    <tr>\n",
       "      <th>8</th>\n",
       "      <td>8</td>\n",
       "      <td>45882</td>\n",
       "      <td>I</td>\n",
       "      <td>0.05</td>\n",
       "    </tr>\n",
       "    <tr>\n",
       "      <th>9</th>\n",
       "      <td>9</td>\n",
       "      <td>45132</td>\n",
       "      <td>J</td>\n",
       "      <td>0.05</td>\n",
       "    </tr>\n",
       "  </tbody>\n",
       "</table>\n",
       "</div>"
      ],
      "text/plain": [
       "   read  counts read_char  frequency\n",
       "0     0   68088         A       0.07\n",
       "1     1   49848         B       0.05\n",
       "2     2   64233         C       0.06\n",
       "3     3   97080         D       0.10\n",
       "4     4  141874         E       0.14\n",
       "5     5  136351         F       0.14\n",
       "6     6  202064         G       0.20\n",
       "7     7  149448         H       0.15\n",
       "8     8   45882         I       0.05\n",
       "9     9   45132         J       0.05"
      ]
     },
     "execution_count": 15,
     "metadata": {},
     "output_type": "execute_result"
    }
   ],
   "source": [
    "abundances, len_transcripts = default_abundance_length(10)\n",
    "transcripts = generate_arc(assigned_len)\n",
    "reads = create_reads(transcripts, abundances, assigned_len, 1000000)\n",
    "\n",
    "df2 = pd.DataFrame.from_dict(Counter(reads), orient=\"index\").reset_index()\n",
    "df2.columns = [\"read\", \"counts\"]\n",
    "df2[\"read_char\"] = df2.read.apply(lambda x: chr(ord('@')+x+1))\n",
    "df2 = df2.sort_values(\"read\",ignore_index=True)\n",
    "df2[\"frequency\"] = round(df2.counts/df2.counts.values.sum(),2)\n",
    "df2"
   ]
  },
  {
   "cell_type": "code",
   "execution_count": null,
   "id": "98925517-2087-4c90-9dd2-ae50e68afdd5",
   "metadata": {},
   "outputs": [],
   "source": []
  },
  {
   "cell_type": "markdown",
   "id": "7ac02ca0-f4d3-426b-b334-d60378bbc894",
   "metadata": {},
   "source": [
    "# 2. Calculate the Log Likelihood\n",
    "### Write a function that calculates the log likelihood: the log probability of the observed data (the observed read counts rk) if the model and its parameters were known (i.e. τ, L), for a given locus structure of Arc. Explain the steps of the calculation."
   ]
  },
  {
   "cell_type": "code",
   "execution_count": 16,
   "id": "f37ad52e-3fb2-439a-a4b8-313d137f6f45",
   "metadata": {},
   "outputs": [],
   "source": [
    "def nuc_to_trans(abundances,len_transcripts):\n",
    "    abundances = np.true_divide(abundances, len_transcripts)\n",
    "    return np.true_divide(abundances, sum(abundances))"
   ]
  },
  {
   "cell_type": "code",
   "execution_count": 17,
   "id": "ba4f2bc1-0925-4b89-8b19-faf53984efbe",
   "metadata": {},
   "outputs": [],
   "source": [
    "def trans_to_nuc(abundances,len_transcripts):\n",
    "    ab = np.multiply(abundances, len_transcripts)\n",
    "    return np.true_divide(ab, sum(ab)) "
   ]
  },
  {
   "cell_type": "code",
   "execution_count": 18,
   "id": "10480bb4-1b13-426e-a2c6-ebbe40519e95",
   "metadata": {},
   "outputs": [],
   "source": [
    "def nll(reads, transcripts, abundances, len_transcripts): \n",
    "    log_probs = []\n",
    "    for read_idx, read in enumerate(unique_reads):  \n",
    "        read_probs = []\n",
    "        for idx, transcript in enumerate(transcripts): \n",
    "            if read in transcript:\n",
    "                read_probs.append(np.log(abundances[idx]/len_transcripts[idx])) \n",
    "        read_prob_sum = special.logsumexp(read_probs)*unique_counts[read_idx]  \n",
    "        log_probs.append(read_prob_sum)\n",
    "    res = -np.sum(log_probs) \n",
    "    return res"
   ]
  },
  {
   "cell_type": "markdown",
   "id": "b4792a3e-0190-4ab8-afcf-b0457d57624d",
   "metadata": {},
   "source": [
    "###### Run the given code for the analysis done by Lestrade et al.\n",
    "###### The script estimates the number of reads assigned to each isoform by assigning each read to its cognate segment, trusting the mapping and ignoring accuracy; then assigning to isoform uniformly. (i.e. if 3 isoforms share the same segment, assign 1/3 count to each isoform.)"
   ]
  },
  {
   "cell_type": "code",
   "execution_count": 20,
   "id": "e235230d-ec4a-4a55-a645-fc30b09b73ec",
   "metadata": {},
   "outputs": [],
   "source": [
    "import numpy as np\n",
    "import string\n",
    "import sys\n",
    "import re\n",
    "\n",
    "T = 10\n",
    "S = T    # S = R = T : there are T transcripts (Arc1..Arc10), S segments (A..J), R reads (a..j)\n",
    "R = T\n",
    "Slabel   = list(string.ascii_uppercase)[:S]               # ['A'..'J']        : the upper case labels for Arc locus segments \n",
    "Tlabel   = [ \"Arc{}\".format(d) for d in range(1,T+1) ]    # ['Arc1'..'Arc10'] : the labels for Arc transcript isoforms\n",
    "Rlabel   = list(string.ascii_lowercase)[:T]               # ['a'..'j']        : lower case labels for reads"
   ]
  },
  {
   "cell_type": "code",
   "execution_count": 21,
   "id": "0cd78ced-f44d-4882-92ab-c38102a1d969",
   "metadata": {},
   "outputs": [
    {
     "name": "stdout",
     "output_type": "stream",
     "text": [
      "['A', 'B', 'C', 'D', 'E', 'F', 'G', 'H', 'I', 'J']\n",
      "['Arc1', 'Arc2', 'Arc3', 'Arc4', 'Arc5', 'Arc6', 'Arc7', 'Arc8', 'Arc9', 'Arc10']\n",
      "['a', 'b', 'c', 'd', 'e', 'f', 'g', 'h', 'i', 'j']\n"
     ]
    }
   ],
   "source": [
    "print(Slabel)\n",
    "print(Tlabel)\n",
    "print(Rlabel)"
   ]
  },
  {
   "cell_type": "markdown",
   "id": "1a8fefdb-4021-45ad-8024-0d70c5dc80f2",
   "metadata": {},
   "source": [
    "### Use Lestrade's approach with his code to estimate abundances of each Arc isoform in the test dataset. Compare to the new true τ. Calculate and show the log likelihood given what Lestrade would estimate for the τ, compared to the log likelihood for the true τ in the positive control."
   ]
  },
  {
   "cell_type": "code",
   "execution_count": 22,
   "id": "6abf32a7-f6bc-43cc-9ded-6a28c68d3829",
   "metadata": {},
   "outputs": [
    {
     "name": "stdout",
     "output_type": "stream",
     "text": [
      "[ 93083.          38027.         101062.33333333 175617.66666667\n",
      " 180619.66666667 133328.33333333  87878.          60303.\n",
      "  68203.          61878.        ]\n",
      "Arc1        0.071\n",
      "Arc2        0.058\n",
      "Arc3        0.103\n",
      "Arc4        0.134\n",
      "Arc5        0.138\n",
      "Arc6        0.136\n",
      "Arc7        0.134\n",
      "Arc8        0.092\n",
      "Arc9        0.070\n",
      "Arc10       0.063\n"
     ]
    }
   ],
   "source": [
    "segusage = np.zeros(S).astype(int)\n",
    "L = assigned_len\n",
    "r = df2.counts.tolist()\n",
    "for i in range(T):\n",
    "    for j in range(i,i+L[i]): \n",
    "        segusage[j%S] += 1\n",
    "c  = np.zeros(T)\n",
    "for i in range(T):\n",
    "    for k in range(i,i+L[i]):\n",
    "        c[i] += (1.0 / float(segusage[k%S])) * float(r[k%S])  \n",
    "Z = np.sum(c)\n",
    "est_nu  = np.divide(c, Z)       # nucleotide abundance\n",
    "\n",
    "print(c)\n",
    "\n",
    "est_tau = np.divide(est_nu, L)  # convert to TPM, transcript abundance\n",
    "est_tau = np.divide(est_tau, np.sum(est_tau))\n",
    "\n",
    "# Print a table of the resulting estimates for tau\n",
    "for i in range(T):\n",
    "    print (\"{0:10s}  {1:5.3f}\".format(Tlabel[i], est_tau[i]))"
   ]
  },
  {
   "cell_type": "markdown",
   "id": "a91c2d39-1ceb-4922-8eb4-644853d2669e",
   "metadata": {},
   "source": [
    "### Calculate and show the log likelihood of one of the new generated test data sets, for the known parameter values."
   ]
  },
  {
   "cell_type": "code",
   "execution_count": 23,
   "id": "51a21c42-309f-4db0-abbb-4dbb1408e523",
   "metadata": {},
   "outputs": [],
   "source": [
    "unique_reads = df2.read.tolist()\n",
    "unique_counts = df2.counts.tolist()"
   ]
  },
  {
   "cell_type": "code",
   "execution_count": 24,
   "id": "284b1704-1cdf-4a55-a426-4745133a307d",
   "metadata": {},
   "outputs": [
    {
     "data": {
      "text/plain": [
       "array([0.0930644 , 0.04792982, 0.05068599, 0.22759581, 0.27566147,\n",
       "       0.03081334, 0.13182389, 0.00749522, 0.12705759, 0.00787247])"
      ]
     },
     "execution_count": 24,
     "metadata": {},
     "output_type": "execute_result"
    }
   ],
   "source": [
    "trans_to_nuc(abundances, assigned_len)"
   ]
  },
  {
   "cell_type": "code",
   "execution_count": 25,
   "id": "5b5d5a39-4827-4b7b-9419-dbb2b8de4069",
   "metadata": {},
   "outputs": [
    {
     "data": {
      "text/plain": [
       "array([0.093083  , 0.038027  , 0.10106233, 0.17561767, 0.18061967,\n",
       "       0.13332833, 0.087878  , 0.060303  , 0.068203  , 0.061878  ])"
      ]
     },
     "execution_count": 25,
     "metadata": {},
     "output_type": "execute_result"
    }
   ],
   "source": [
    "trans_to_nuc(est_tau, assigned_len)"
   ]
  },
  {
   "cell_type": "code",
   "execution_count": 26,
   "id": "cf1a2730-d7e7-42d8-b8ac-04c2ee1aacc7",
   "metadata": {},
   "outputs": [
    {
     "data": {
      "text/plain": [
       "2172347.142230456"
      ]
     },
     "execution_count": 26,
     "metadata": {},
     "output_type": "execute_result"
    }
   ],
   "source": [
    "true_nll = nll(reads, transcripts, trans_to_nuc(abundances, assigned_len), assigned_len)\n",
    "true_nll"
   ]
  },
  {
   "cell_type": "code",
   "execution_count": 27,
   "id": "19310066-0d52-4f88-9174-aaf9ff0e5927",
   "metadata": {},
   "outputs": [
    {
     "data": {
      "text/plain": [
       "2179091.1282082503"
      ]
     },
     "execution_count": 27,
     "metadata": {},
     "output_type": "execute_result"
    }
   ],
   "source": [
    "les_nll = nll(reads, transcripts, trans_to_nuc(est_tau, assigned_len), assigned_len)\n",
    "les_nll"
   ]
  },
  {
   "cell_type": "code",
   "execution_count": 145,
   "id": "b0a40ccc-8b8c-4b58-aa3f-3d27d716e24e",
   "metadata": {},
   "outputs": [
    {
     "name": "stdout",
     "output_type": "stream",
     "text": [
      "The negative log-likelihood of the true parameters is 2172347.14\n",
      "The negative log-likelihood of Lestrade's parameters is 2179091.13\n",
      "Lestrade's nll is 6743.99 greater than the true log-likelihood.\n"
     ]
    }
   ],
   "source": [
    "print(\"The negative log-likelihood of the true parameters is %.2f\" %round(true_nll, 2))\n",
    "print(\"The negative log-likelihood of Lestrade's parameters is %.2f\" %round(les_nll, 2))\n",
    "print(\"Lestrade's nll is %.2f greater than the true log-likelihood.\"%round(np.abs(true_nll-les_nll), 2))  "
   ]
  },
  {
   "cell_type": "markdown",
   "id": "5cd67239-6663-4c58-ad1a-2f967f232623",
   "metadata": {},
   "source": [
    "### The result shows that the negative log-likelihood of Lestrade's parameters is 6743.99 greater than the one of the true parameters, meaning that the true τ parameter values give a much better log likelihood than the Lestrade et al. estimates."
   ]
  },
  {
   "cell_type": "code",
   "execution_count": null,
   "id": "b826d653-3b59-4afd-b0df-825aef72d8cc",
   "metadata": {},
   "outputs": [],
   "source": []
  },
  {
   "cell_type": "markdown",
   "id": "eb84ae2e-a53a-4f61-b1e1-816db4db5d3a",
   "metadata": {},
   "source": [
    "# 3. Estimate Isoform Abundances by EM\n",
    "### Write a function that estimates unknown isoform abundances τi for each isoform Arc1..Arc10, given read counts r_k and the structure of the Arc locus including the lengths Li, using expectation maximization. Apply the function to the data in the Lestrade et al. supplementary data file. Show the estimated τi. What are the most abundant two transcripts, and how much of the population do they account for? What are the least abundant two transcripts? Explain why Lestrade was wrong."
   ]
  },
  {
   "cell_type": "code",
   "execution_count": 31,
   "id": "b5af8aba-b331-48bd-82ef-4a53e25b709c",
   "metadata": {},
   "outputs": [],
   "source": [
    "def EM(reads, transcripts, lengths, iterations):\n",
    "    trans_abundances = nuc_to_trans(initialize_abundance_length(len(transcripts), 1,1)[0], lengths)\n",
    "    unique_reads, unique_counts = np.unique(reads, return_counts=True)\n",
    "    nlls = []\n",
    "    print(\"Training with %i iterations, threshold set at %f\"%(iteration, threshold))\n",
    "    for i in range(iterations):\n",
    "        total_counts = np.zeros(10)   \n",
    "        for read_idx, read in enumerate(unique_reads):  \n",
    "            read_probs = []\n",
    "            idxs = []   \n",
    "            for idx, transcript in enumerate(transcripts):\n",
    "                if read in transcript:\n",
    "                    idxs.append(idx)\n",
    "                    read_probs.append(np.log(trans_abundances[idx]/lengths[idx]))\n",
    "            read_probs = np.subtract(read_probs, special.logsumexp(read_probs))\n",
    "            read_counts = np.multiply(np.exp(read_probs),unique_counts[read_idx])  \n",
    "            np.add.at(total_counts, idxs, read_counts)\n",
    "        trans_abundances = np.divide(total_counts, np.sum(total_counts))\n",
    "        nl = nll(reads, transcripts, trans_to_nuc(trans_abundances, lengths), lengths)                       \n",
    "        if not nlls:\n",
    "            nlls.append(nl)\n",
    "            continue\n",
    "        elif np.abs(np.subtract(nlls[-1], nl)) < threshold:\n",
    "            nlls.append(nl)\n",
    "            print(\"Training converged at step %i\"%i)\n",
    "            return trans_abundances, nlls\n",
    "        else: \n",
    "            nlls.append(nl)                              \n",
    "    print(\"Reached max iteration.\")\n",
    "    return trans_abundances, nlls"
   ]
  },
  {
   "cell_type": "code",
   "execution_count": 139,
   "id": "a444fd60-b6e3-44a6-b836-c971bcdb0ac6",
   "metadata": {},
   "outputs": [
    {
     "name": "stdout",
     "output_type": "stream",
     "text": [
      "Training with 10000 iterations, threshold set at 0.010000\n",
      "Training converged at step 1689\n"
     ]
    }
   ],
   "source": [
    "threshold = 0.01\n",
    "iteration = 10000\n",
    "\n",
    "reads = []\n",
    "for read, counts in zip(list(range(0, 10)),assigned_len):\n",
    "    reads += [read]*counts\n",
    "transcripts = generate_arc(data1.SegNum.tolist())\n",
    "lengths = data1.SegNum.tolist()\n",
    "\n",
    "EM_abundances, EM_nlls = EM(reads, transcripts, lengths, iteration)"
   ]
  },
  {
   "cell_type": "code",
   "execution_count": 140,
   "id": "c44e6997-ee9e-4ef8-a66c-63d8b3f748c8",
   "metadata": {},
   "outputs": [
    {
     "data": {
      "image/png": "[encoded data removed]",
      "text/plain": [
       "<Figure size 720x432 with 1 Axes>"
      ]
     },
     "metadata": {
      "needs_background": "light"
     },
     "output_type": "display_data"
    }
   ],
   "source": [
    "plt.figure(figsize=(10,6))\n",
    "plt.plot(EM_nlls)\n",
    "plt.xlabel(\"Iteration\")\n",
    "plt.ylabel(\"NLL\")\n",
    "plt.title(\"EM optimization of transcript abundances\")\n",
    "plt.show()"
   ]
  },
  {
   "cell_type": "code",
   "execution_count": 141,
   "id": "6a18265d-fd7a-419d-be1b-20fe690f3c60",
   "metadata": {},
   "outputs": [
    {
     "data": {
      "text/html": [
       "<div>\n",
       "<style scoped>\n",
       "    .dataframe tbody tr th:only-of-type {\n",
       "        vertical-align: middle;\n",
       "    }\n",
       "\n",
       "    .dataframe tbody tr th {\n",
       "        vertical-align: top;\n",
       "    }\n",
       "\n",
       "    .dataframe thead th {\n",
       "        text-align: right;\n",
       "    }\n",
       "</style>\n",
       "<table border=\"1\" class=\"dataframe\">\n",
       "  <thead>\n",
       "    <tr style=\"text-align: right;\">\n",
       "      <th></th>\n",
       "      <th>Arc</th>\n",
       "      <th>EM abundance</th>\n",
       "      <th>Les abundance</th>\n",
       "      <th>Differences</th>\n",
       "    </tr>\n",
       "  </thead>\n",
       "  <tbody>\n",
       "    <tr>\n",
       "      <th>0</th>\n",
       "      <td>A</td>\n",
       "      <td>0.13332589312003337</td>\n",
       "      <td>0.07118077756112158</td>\n",
       "      <td>0.06214511555891179</td>\n",
       "    </tr>\n",
       "    <tr>\n",
       "      <th>1</th>\n",
       "      <td>B</td>\n",
       "      <td>0.01666631759630759</td>\n",
       "      <td>0.05815866330730145</td>\n",
       "      <td>0.04149234571099386</td>\n",
       "    </tr>\n",
       "    <tr>\n",
       "      <th>2</th>\n",
       "      <td>C</td>\n",
       "      <td>0.17500672091958938</td>\n",
       "      <td>0.10304345539368696</td>\n",
       "      <td>0.07196326552590242</td>\n",
       "    </tr>\n",
       "    <tr>\n",
       "      <th>3</th>\n",
       "      <td>D</td>\n",
       "      <td>0.16666821323255154</td>\n",
       "      <td>0.13429522111237494</td>\n",
       "      <td>0.03237299212017661</td>\n",
       "    </tr>\n",
       "    <tr>\n",
       "      <th>4</th>\n",
       "      <td>E</td>\n",
       "      <td>0.13331893843973036</td>\n",
       "      <td>0.13812026166071062</td>\n",
       "      <td>0.004801323220980258</td>\n",
       "    </tr>\n",
       "    <tr>\n",
       "      <th>5</th>\n",
       "      <td>F</td>\n",
       "      <td>0.02500984930446906</td>\n",
       "      <td>0.1359419648785861</td>\n",
       "      <td>0.11093211557411703</td>\n",
       "    </tr>\n",
       "    <tr>\n",
       "      <th>6</th>\n",
       "      <td>G</td>\n",
       "      <td>4.63227553374338e-81</td>\n",
       "      <td>0.1344010049206889</td>\n",
       "      <td>0.1344010049206889</td>\n",
       "    </tr>\n",
       "    <tr>\n",
       "      <th>7</th>\n",
       "      <td>H</td>\n",
       "      <td>0.05000111560465031</td>\n",
       "      <td>0.09222767700371313</td>\n",
       "      <td>0.04222656139906283</td>\n",
       "    </tr>\n",
       "    <tr>\n",
       "      <th>8</th>\n",
       "      <td>I</td>\n",
       "      <td>0.22499729729040494</td>\n",
       "      <td>0.06953998147891201</td>\n",
       "      <td>0.1554573158114929</td>\n",
       "    </tr>\n",
       "    <tr>\n",
       "      <th>9</th>\n",
       "      <td>J</td>\n",
       "      <td>0.0750056544922635</td>\n",
       "      <td>0.06309099268290425</td>\n",
       "      <td>0.011914661809359253</td>\n",
       "    </tr>\n",
       "  </tbody>\n",
       "</table>\n",
       "</div>"
      ],
      "text/plain": [
       "  Arc          EM abundance        Les abundance           Differences\n",
       "0   A   0.13332589312003337  0.07118077756112158   0.06214511555891179\n",
       "1   B   0.01666631759630759  0.05815866330730145   0.04149234571099386\n",
       "2   C   0.17500672091958938  0.10304345539368696   0.07196326552590242\n",
       "3   D   0.16666821323255154  0.13429522111237494   0.03237299212017661\n",
       "4   E   0.13331893843973036  0.13812026166071062  0.004801323220980258\n",
       "5   F   0.02500984930446906   0.1359419648785861   0.11093211557411703\n",
       "6   G  4.63227553374338e-81   0.1344010049206889    0.1344010049206889\n",
       "7   H   0.05000111560465031  0.09222767700371313   0.04222656139906283\n",
       "8   I   0.22499729729040494  0.06953998147891201    0.1554573158114929\n",
       "9   J    0.0750056544922635  0.06309099268290425  0.011914661809359253"
      ]
     },
     "execution_count": 141,
     "metadata": {},
     "output_type": "execute_result"
    }
   ],
   "source": [
    "df = pd.DataFrame(np.array([data2.Segment.str.upper().tolist(), EM_abundances, est_tau, np.abs(np.subtract(EM_abundances, est_tau))]).T, \n",
    "                  columns=[\"Arc\",\"EM abundance\", \"Les abundance\", \"Differences\"])\n",
    "df"
   ]
  },
  {
   "cell_type": "code",
   "execution_count": 144,
   "id": "5061af78-23ba-42b2-a741-49bcf352c80b",
   "metadata": {},
   "outputs": [
    {
     "name": "stdout",
     "output_type": "stream",
     "text": [
      "The negative log-likelihood of EM optimized parameters is 2323652.19\n",
      "The negative log-likelihood of Lestrades' parameters is 2179091.13\n",
      "Lestrade's nll is 144561.06 greater than the EM optimized log-likelihood.\n"
     ]
    }
   ],
   "source": [
    "print(\"The negative log-likelihood of EM optimized parameters is %.2f\"%EM_nlls[-1])\n",
    "print(\"The negative log-likelihood of Lestrades' parameters is %.2f\"%les_nll)\n",
    "print(\"Lestrade's nll is %.2f greater than the EM optimized log-likelihood.\"%np.abs(les_nll - EM_nlls[-1]))"
   ]
  },
  {
   "cell_type": "markdown",
   "id": "47ad3d62-d3d7-4b3d-a90c-f8d817d3d026",
   "metadata": {},
   "source": [
    "### The result shows that the negative log-likelihood of Lestrade's parameters is 6743.99 greater than the one of the EM optimized parameters."
   ]
  },
  {
   "cell_type": "code",
   "execution_count": 165,
   "id": "0f2cc479-335f-432b-93bb-8aa97ca72095",
   "metadata": {},
   "outputs": [],
   "source": [
    "df['EM abundance'] = df['EM abundance'].astype(float)\n",
    "df['Les abundance'] = df['Les abundance'].astype(float)\n",
    "df['Differences'] = df['Differences'].astype(float)"
   ]
  },
  {
   "cell_type": "code",
   "execution_count": 166,
   "id": "2a86fa76-9483-4d5e-b2a5-a599b44eaf5a",
   "metadata": {},
   "outputs": [
    {
     "data": {
      "text/html": [
       "<div>\n",
       "<style scoped>\n",
       "    .dataframe tbody tr th:only-of-type {\n",
       "        vertical-align: middle;\n",
       "    }\n",
       "\n",
       "    .dataframe tbody tr th {\n",
       "        vertical-align: top;\n",
       "    }\n",
       "\n",
       "    .dataframe thead th {\n",
       "        text-align: right;\n",
       "    }\n",
       "</style>\n",
       "<table border=\"1\" class=\"dataframe\">\n",
       "  <thead>\n",
       "    <tr style=\"text-align: right;\">\n",
       "      <th></th>\n",
       "      <th>Arc</th>\n",
       "      <th>EM abundance</th>\n",
       "      <th>Les abundance</th>\n",
       "      <th>Differences</th>\n",
       "    </tr>\n",
       "  </thead>\n",
       "  <tbody>\n",
       "    <tr>\n",
       "      <th>8</th>\n",
       "      <td>I</td>\n",
       "      <td>2.249973e-01</td>\n",
       "      <td>0.069540</td>\n",
       "      <td>0.155457</td>\n",
       "    </tr>\n",
       "    <tr>\n",
       "      <th>2</th>\n",
       "      <td>C</td>\n",
       "      <td>1.750067e-01</td>\n",
       "      <td>0.103043</td>\n",
       "      <td>0.071963</td>\n",
       "    </tr>\n",
       "    <tr>\n",
       "      <th>3</th>\n",
       "      <td>D</td>\n",
       "      <td>1.666682e-01</td>\n",
       "      <td>0.134295</td>\n",
       "      <td>0.032373</td>\n",
       "    </tr>\n",
       "    <tr>\n",
       "      <th>0</th>\n",
       "      <td>A</td>\n",
       "      <td>1.333259e-01</td>\n",
       "      <td>0.071181</td>\n",
       "      <td>0.062145</td>\n",
       "    </tr>\n",
       "    <tr>\n",
       "      <th>4</th>\n",
       "      <td>E</td>\n",
       "      <td>1.333189e-01</td>\n",
       "      <td>0.138120</td>\n",
       "      <td>0.004801</td>\n",
       "    </tr>\n",
       "    <tr>\n",
       "      <th>9</th>\n",
       "      <td>J</td>\n",
       "      <td>7.500565e-02</td>\n",
       "      <td>0.063091</td>\n",
       "      <td>0.011915</td>\n",
       "    </tr>\n",
       "    <tr>\n",
       "      <th>7</th>\n",
       "      <td>H</td>\n",
       "      <td>5.000112e-02</td>\n",
       "      <td>0.092228</td>\n",
       "      <td>0.042227</td>\n",
       "    </tr>\n",
       "    <tr>\n",
       "      <th>5</th>\n",
       "      <td>F</td>\n",
       "      <td>2.500985e-02</td>\n",
       "      <td>0.135942</td>\n",
       "      <td>0.110932</td>\n",
       "    </tr>\n",
       "    <tr>\n",
       "      <th>1</th>\n",
       "      <td>B</td>\n",
       "      <td>1.666632e-02</td>\n",
       "      <td>0.058159</td>\n",
       "      <td>0.041492</td>\n",
       "    </tr>\n",
       "    <tr>\n",
       "      <th>6</th>\n",
       "      <td>G</td>\n",
       "      <td>4.632276e-81</td>\n",
       "      <td>0.134401</td>\n",
       "      <td>0.134401</td>\n",
       "    </tr>\n",
       "  </tbody>\n",
       "</table>\n",
       "</div>"
      ],
      "text/plain": [
       "  Arc  EM abundance  Les abundance  Differences\n",
       "8   I  2.249973e-01       0.069540     0.155457\n",
       "2   C  1.750067e-01       0.103043     0.071963\n",
       "3   D  1.666682e-01       0.134295     0.032373\n",
       "0   A  1.333259e-01       0.071181     0.062145\n",
       "4   E  1.333189e-01       0.138120     0.004801\n",
       "9   J  7.500565e-02       0.063091     0.011915\n",
       "7   H  5.000112e-02       0.092228     0.042227\n",
       "5   F  2.500985e-02       0.135942     0.110932\n",
       "1   B  1.666632e-02       0.058159     0.041492\n",
       "6   G  4.632276e-81       0.134401     0.134401"
      ]
     },
     "execution_count": 166,
     "metadata": {},
     "output_type": "execute_result"
    }
   ],
   "source": [
    "df.sort_values(\"EM abundance\", ascending=False)"
   ]
  },
  {
   "cell_type": "code",
   "execution_count": 167,
   "id": "31f0123e-aba7-4ff8-ad68-e8b4005b2ae9",
   "metadata": {},
   "outputs": [
    {
     "name": "stdout",
     "output_type": "stream",
     "text": [
      " Arc I and C are the most expressed as these two are the most abundant.\n",
      " They account for 0.40 of transcripts\n"
     ]
    }
   ],
   "source": [
    "print(\" Arc I and C are the most expressed as these two are the most abundant.\\n They account for %.2f of transcripts\"%\n",
    "      (df['EM abundance'][8]+df['EM abundance'][2]))"
   ]
  },
  {
   "cell_type": "code",
   "execution_count": 168,
   "id": "07f5e700-8711-4371-bab0-db9d56ad0a31",
   "metadata": {},
   "outputs": [
    {
     "name": "stdout",
     "output_type": "stream",
     "text": [
      " Arc B and G are the least expressed as these two are the least abundant.\n",
      " They account for 0.02 of transcripts\n"
     ]
    }
   ],
   "source": [
    "print(\" Arc B and G are the least expressed as these two are the least abundant.\\n They account for %.2f of transcripts\"%\n",
    "      (df['EM abundance'][1]+df['EM abundance'][6]))"
   ]
  },
  {
   "cell_type": "code",
   "execution_count": 169,
   "id": "43ae5d5c-4db7-4376-a2ff-c694bced22ce",
   "metadata": {},
   "outputs": [
    {
     "data": {
      "text/plain": [
       "<AxesSubplot:xlabel='Arc'>"
      ]
     },
     "execution_count": 169,
     "metadata": {},
     "output_type": "execute_result"
    },
    {
     "data": {
      "image/png": "[encoded data removed]",
      "text/plain": [
       "<Figure size 432x288 with 1 Axes>"
      ]
     },
     "metadata": {
      "needs_background": "light"
     },
     "output_type": "display_data"
    }
   ],
   "source": [
    "df.set_index(\"Arc\").astype(float).plot()"
   ]
  },
  {
   "cell_type": "code",
   "execution_count": 170,
   "id": "1dc4ab9e-9129-4fc9-9b61-51eb5b146b4a",
   "metadata": {},
   "outputs": [
    {
     "data": {
      "text/plain": [
       "1.0500305818686804"
      ]
     },
     "execution_count": 170,
     "metadata": {},
     "output_type": "execute_result"
    }
   ],
   "source": [
    "df['EM abundance'][2]/df['EM abundance'][3]"
   ]
  },
  {
   "cell_type": "code",
   "execution_count": 171,
   "id": "4003a98b-09cd-4150-b88a-e8a05dd7250f",
   "metadata": {},
   "outputs": [
    {
     "data": {
      "text/plain": [
       "0.7672905598588854"
      ]
     },
     "execution_count": 171,
     "metadata": {},
     "output_type": "execute_result"
    }
   ],
   "source": [
    "df['Les abundance'][2].astype(float)/df['Les abundance'][3].astype(float)"
   ]
  },
  {
   "cell_type": "markdown",
   "id": "093b8a8a-c8a7-465e-ac34-e1feda4afc2c",
   "metadata": {},
   "source": [
    "### Based on the result, Arc2 and Arc3 both have a relative high rank in terms of EM abundance but not for the result gotten from the Lestrade's method. Lestrade et al. believed that the transcript isoform abundances are nearly uniform which is not true proved by testing even though it is reasonable to claim that some of them are close. By calculation, the abundnace of Arc2 is roughly 1.05 times greater thanthe abundance of Arc3. For Lestrade's estimation, the abundnace of Arc2 is roughly 0.77 times less thanthe abundance of Arc3. Therefore, their conclusion was incorrect. Even though the plot showing the EM abundance, Lestrade's abundance, and the difference look bad, it directly indicates that transcripts are not uniformly distributed. The problem for the Lestrade's method is that they simply compute the nucleotide abundance by assuming a uniform distribution and performing $1/L_i$, which is inappropriate."
   ]
  },
  {
   "cell_type": "code",
   "execution_count": null,
   "id": "ecc1c1e7-a147-48d7-962d-004a8e8f7648",
   "metadata": {},
   "outputs": [],
   "source": []
  },
  {
   "cell_type": "code",
   "execution_count": null,
   "id": "2374fa73-34fa-4dc1-853a-084c4aeaa39d",
   "metadata": {},
   "outputs": [],
   "source": []
  }
 ],
 "metadata": {
  "kernelspec": {
   "display_name": "Python 3",
   "language": "python",
   "name": "python3"
  },
  "language_info": {
   "codemirror_mode": {
    "name": "ipython",
    "version": 3
   },
   "file_extension": ".py",
   "mimetype": "text/x-python",
   "name": "python",
   "nbconvert_exporter": "python",
   "pygments_lexer": "ipython3",
   "version": "3.8.8"
  }
 },
 "nbformat": 4,
 "nbformat_minor": 5
}
